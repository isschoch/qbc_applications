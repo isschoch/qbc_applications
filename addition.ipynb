{
 "cells": [
  {
   "cell_type": "code",
   "execution_count": 1,
   "metadata": {},
   "outputs": [],
   "source": [
    "import pennylane as qml\n",
    "from pennylane import numpy as np"
   ]
  },
  {
   "cell_type": "code",
   "execution_count": 2,
   "metadata": {},
   "outputs": [],
   "source": [
    "n = 4\n",
    "x_wires = range(n)\n",
    "y_wires = range(n, 2 * n)\n",
    "\n",
    "wires = range(0, 2 * n)\n",
    "dev = qml.device(\"default.qubit\", wires=wires, shots=1)"
   ]
  },
  {
   "cell_type": "markdown",
   "metadata": {},
   "source": []
  },
  {
   "cell_type": "code",
   "execution_count": 3,
   "metadata": {},
   "outputs": [],
   "source": [
    "# calculates y_val - x_val\n",
    "\n",
    "def tmp_fct():\n",
    "    qml.QFT(wires=y_wires)\n",
    "    for j in x_wires:\n",
    "        for l in range(n - j):\n",
    "            qml.ControlledPhaseShift(2 * np.pi / (2 ** (n - l - j)), wires=[n - (j+1), 2 * n - (l + 1)])\n",
    "    qml.adjoint(qml.QFT(wires=y_wires))\n",
    "\n",
    "\n",
    "@qml.qnode(dev)\n",
    "def addition(x_val, y_val):\n",
    "    qml.templates.BasisEmbedding(x_val, wires=x_wires)\n",
    "    qml.templates.BasisEmbedding(y_val, wires=y_wires)\n",
    "\n",
    "    qml.QFT(wires=y_wires)\n",
    "    for j in x_wires:\n",
    "        for l in range(n - j):\n",
    "            qml.ControlledPhaseShift(-2 * np.pi / (2 ** (n - l - j)), wires=[n - (j+1), 2 * n - (l + 1)])\n",
    "    qml.adjoint(qml.QFT(wires=y_wires))\n",
    "    tmp_fct()\n",
    "    qml.adjoint(tmp_fct)()\n",
    "\n",
    "    return qml.sample(wires=wires)"
   ]
  },
  {
   "cell_type": "code",
   "execution_count": 4,
   "metadata": {},
   "outputs": [
    {
     "name": "stdout",
     "output_type": "stream",
     "text": [
      "x =  [0 0 0 1]\n",
      "y =  [0 0 1 1]\n"
     ]
    }
   ],
   "source": [
    "result = addition(1, 4)\n",
    "\n",
    "x = result[0:n]\n",
    "y = result[n:2 * n]\n",
    "print(\"x = \", x)\n",
    "print(\"y = \", y)"
   ]
  },
  {
   "cell_type": "code",
   "execution_count": 5,
   "metadata": {},
   "outputs": [],
   "source": [
    "import pennylane as qml\n",
    "from pennylane import numpy as np"
   ]
  },
  {
   "cell_type": "code",
   "execution_count": 7,
   "metadata": {},
   "outputs": [
    {
     "name": "stdout",
     "output_type": "stream",
     "text": [
      "The ket representation of the sum of 3 and 4 is [0 1 1 1]\n"
     ]
    }
   ],
   "source": [
    "n_wires = 4\n",
    "dev = qml.device(\"default.qubit\", wires=n_wires, shots=1)\n",
    "\n",
    "def add_k_fourier(k, wires):\n",
    "    for j in range(len(wires)):\n",
    "        qml.RZ(k * np.pi / (2**j), wires=wires[j])\n",
    "\n",
    "@qml.qnode(dev)\n",
    "def sum(m, k):\n",
    "    qml.BasisEmbedding(m, wires=range(n_wires)) # m encoding\n",
    "    qml.QFT(wires=range(n_wires)) # step 1\n",
    "    add_k_fourier(k, range(n_wires)) # step 2\n",
    "    qml.adjoint(qml.QFT) (wires=range(n_wires)) # step 3\n",
    "    return qml.sample()\n",
    "\n",
    "print(f\"The ket representation of the sum of 3 and 4 is {sum(4,3)}\")"
   ]
  },
  {
   "cell_type": "code",
   "execution_count": null,
   "metadata": {},
   "outputs": [],
   "source": []
  }
 ],
 "metadata": {
  "kernelspec": {
   "display_name": ".env",
   "language": "python",
   "name": "python3"
  },
  "language_info": {
   "codemirror_mode": {
    "name": "ipython",
    "version": 3
   },
   "file_extension": ".py",
   "mimetype": "text/x-python",
   "name": "python",
   "nbconvert_exporter": "python",
   "pygments_lexer": "ipython3",
   "version": "3.9.13"
  },
  "orig_nbformat": 4,
  "vscode": {
   "interpreter": {
    "hash": "f4b9de1af251268cfbd50ae3e9b1007db26449b209f55fed8dc5bfd62c13e252"
   }
  }
 },
 "nbformat": 4,
 "nbformat_minor": 2
}
