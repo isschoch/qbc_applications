{
 "cells": [
  {
   "cell_type": "code",
   "execution_count": 1,
   "metadata": {},
   "outputs": [
    {
     "name": "stdout",
     "output_type": "stream",
     "text": [
      "W =  [-1.6193685   1.28386154 -1.13687517 -0.4885566 ]\n",
      "b =  0.21635686180382116\n",
      "x =  [ 0.52  1.12  0.77 -1.07]\n",
      "rho =  4.318032192757666 rho_exact =  0.24321485484507657\n",
      "x =  [ 0.88 -1.08  0.15  0.26]\n",
      "rho =  -2.1776358645962466 rho_exact =  -3.10917082283958\n",
      "x =  [ 0.52  0.06 -1.3   0.51]\n",
      "rho =  3.462068811534412 rho_exact =  0.46373379634507633\n",
      "x =  [ 0.74 -2.49  1.39  0.62]\n",
      "rho =  -3.574409954031523 rho_exact =  -6.27830960772888\n",
      "x =  [ 0.52  1.12  0.77 -1.07]\n",
      "rho =  4.318032192757666 rho_exact =  0.24321485484507657\n",
      "rho =  Traced<ShapedArray(float64[])>with<BatchTrace(level=1/1)> with\n",
      "  val = Array([1.50185622, 0.39575532, 1.14588359, 0.5243316 ], dtype=float64)\n",
      "  batch_dim = 0 rho_exact =  Traced<ShapedArray(float64[])>with<BatchTrace(level=1/1)> with\n",
      "  val = Array([ 0.52000018,  1.12000006,  0.77000006, -1.06999994], dtype=float64)\n",
      "  batch_dim = 0\n",
      "rho =  2.8144563596514726e-08 rho_exact =  -1.930437541950596e-07\n",
      "primal_out =  4.318032192757666 primal_out_exact =  0.24321498590000015\n",
      "tangent_out =  Traced<ShapedArray(float64[])>with<BatchTrace(level=1/0)> with\n",
      "  val = Array([1.50185625, 0.39575535, 1.14588362, 0.52433163], dtype=float64)\n",
      "  batch_dim = 0 tangent_out_exact =  Traced<ShapedArray(float64[])>with<BatchTrace(level=1/0)> with\n",
      "  val = Array([ 0.52,  1.12,  0.77, -1.07], dtype=float64)\n",
      "  batch_dim = 0\n",
      "x =  [ 0.88 -1.08  0.15  0.26]\n",
      "rho =  -2.1776358645962466 rho_exact =  -3.10917082283958\n",
      "rho =  Traced<ShapedArray(float64[])>with<BatchTrace(level=1/1)> with\n",
      "  val = Array([ 0.34627026, -0.20910509,  1.39046975,  1.32960483], dtype=float64)\n",
      "  batch_dim = 0 rho_exact =  Traced<ShapedArray(float64[])>with<BatchTrace(level=1/1)> with\n",
      "  val = Array([ 0.88000022, -1.0799999 ,  0.1500001 ,  0.2600001 ], dtype=float64)\n",
      "  batch_dim = 0\n",
      "rho =  2.8144563596514726e-08 rho_exact =  -1.930437541950596e-07\n",
      "primal_out =  -2.1776358645962466 primal_out_exact =  -3.1091707347000006\n",
      "tangent_out =  Traced<ShapedArray(float64[])>with<BatchTrace(level=1/0)> with\n",
      "  val = Array([ 0.34627029, -0.20910507,  1.39046978,  1.32960486], dtype=float64)\n",
      "  batch_dim = 0 tangent_out_exact =  Traced<ShapedArray(float64[])>with<BatchTrace(level=1/0)> with\n",
      "  val = Array([ 0.88, -1.08,  0.15,  0.26], dtype=float64)\n",
      "  batch_dim = 0\n",
      "x =  [ 0.52  0.06 -1.3   0.51]\n",
      "rho =  3.462068811534412 rho_exact =  0.46373379634507633\n",
      "rho =  Traced<ShapedArray(float64[])>with<BatchTrace(level=1/1)> with\n",
      "  val = Array([ 1.12925728,  1.48730086, -0.76670287,  1.15282274], dtype=float64)\n",
      "  batch_dim = 0 rho_exact =  Traced<ShapedArray(float64[])>with<BatchTrace(level=1/1)> with\n",
      "  val = Array([ 0.52000018,  0.06000006, -1.29999994,  0.51000006], dtype=float64)\n",
      "  batch_dim = 0\n",
      "rho =  2.8144563596514726e-08 rho_exact =  -1.930437541950596e-07\n",
      "primal_out =  3.462068811534412 primal_out_exact =  0.4637339273999999\n",
      "tangent_out =  Traced<ShapedArray(float64[])>with<BatchTrace(level=1/0)> with\n",
      "  val = Array([ 1.12925731,  1.48730089, -0.76670284,  1.15282277], dtype=float64)\n",
      "  batch_dim = 0 tangent_out_exact =  Traced<ShapedArray(float64[])>with<BatchTrace(level=1/0)> with\n",
      "  val = Array([ 0.52,  0.06, -1.3 ,  0.51], dtype=float64)\n",
      "  batch_dim = 0\n",
      "x =  [ 0.74 -2.49  1.39  0.62]\n",
      "rho =  -3.574409954031523 rho_exact =  -6.27830960772888\n",
      "rho =  Traced<ShapedArray(float64[])>with<BatchTrace(level=1/1)> with\n",
      "  val = Array([ 2.65518392, -1.08352915,  1.73357479,  2.75239396], dtype=float64)\n",
      "  batch_dim = 0 rho_exact =  Traced<ShapedArray(float64[])>with<BatchTrace(level=1/1)> with\n",
      "  val = Array([ 0.74000021, -2.48999991,  1.39000009,  0.62000009], dtype=float64)\n",
      "  batch_dim = 0\n",
      "rho =  2.8144563596514726e-08 rho_exact =  -1.930437541950596e-07\n",
      "primal_out =  -3.574409954031523 primal_out_exact =  -6.278309502899999\n",
      "tangent_out =  Traced<ShapedArray(float64[])>with<BatchTrace(level=1/0)> with\n",
      "  val = Array([ 2.65518395, -1.08352913,  1.73357482,  2.75239398], dtype=float64)\n",
      "  batch_dim = 0 tangent_out_exact =  Traced<ShapedArray(float64[])>with<BatchTrace(level=1/0)> with\n",
      "  val = Array([ 0.74, -2.49,  1.39,  0.62], dtype=float64)\n",
      "  batch_dim = 0\n",
      "b_grad =  -0.8782985753724034\n",
      "W_grad =  [-1.78396565  2.67685454 -3.65423521 -2.70660186]\n"
     ]
    }
   ],
   "source": [
    "import jax \n",
    "import jax.numpy as jnp\n",
    "import pennylane as qml\n",
    "from jax import custom_jvp\n",
    "from qbc_ipe_jax_probs import qbc_ipe_algorithm\n",
    "from jax import make_jaxpr\n",
    "jax.config.update(\"jax_enable_x64\", True)"
   ]
  },
  {
   "cell_type": "code",
   "execution_count": 2,
   "metadata": {},
   "outputs": [
    {
     "name": "stdout",
     "output_type": "stream",
     "text": [
      "W =  [-1.6193685   1.28386154 -1.13687517 -0.4885566 ]\n",
      "b =  0.21635686180382116\n"
     ]
    }
   ],
   "source": [
    "key = jax.random.PRNGKey(0)\n",
    "\n",
    "# Build a toy dataset.\n",
    "inputs = jnp.array([[0.52, 1.12,  0.77, -1.07],\n",
    "                   [0.88, -1.08, 0.15, 0.26],\n",
    "                   [0.52, 0.06, -1.30, 0.51],\n",
    "                   [0.74, -2.49, 1.39, 0.62]])\n",
    "targets = jnp.array([True, True, False, True])\n",
    "\n",
    "# Initialize random model coefficients\n",
    "key, W_key, b_key = jax.random.split(key, 3)\n",
    "W = jax.random.normal(W_key, (4,))\n",
    "b = jax.random.normal(b_key, ())\n",
    "print(\"W = \", W)\n",
    "print(\"b = \", b)"
   ]
  },
  {
   "cell_type": "code",
   "execution_count": 3,
   "metadata": {},
   "outputs": [],
   "source": [
    "@custom_jvp\n",
    "def my_inner_prod(x, y):\n",
    "    assert len(x) == len(y)\n",
    "    n = len(x)\n",
    "    res = 0.0\n",
    "    for i in range(n):\n",
    "        res += x[i] * y[i]\n",
    "    return res\n",
    "\n",
    "@my_inner_prod.defjvp\n",
    "def my_inner_prod_jvp(primals, tangents):\n",
    "    primal_out = my_inner_prod(*primals)\n",
    "    tangent_out = my_inner_prod(primals[1], tangents[0]) + my_inner_prod(primals[0], tangents[1])\n",
    "    return primal_out, tangent_out\n",
    "\n",
    "@custom_jvp\n",
    "def qbc_ipe_inner_prod(x, y):\n",
    "    result, _, _, _, _ = qbc_ipe_algorithm(x, y)\n",
    "    # theta = 2 * jnp.pi * j / 2**10\n",
    "    # f = jnp.sin(theta / 2) ** 2\n",
    "\n",
    "    # result = -(1.0 - 2.0 * f)\n",
    "    # x_norm = jnp.linalg.norm(x)\n",
    "    # y_norm = jnp.linalg.norm(y)\n",
    "    # result = -(1.0 - 2.0 * result)\n",
    "    print(\"x = \", x)\n",
    "    print(\"y = \", y)\n",
    "    print(\"result = \", result)\n",
    "    return result\n",
    "\n",
    "@qbc_ipe_inner_prod.defjvp\n",
    "def qbc_ipe_inner_prod_jvp(primals, tangents):\n",
    "    # primal_out = qbc_ipe_inner_prod(*primals)\n",
    "    # tangent_out = qbc_ipe_inner_prod(primals[1], tangents[0]) + qbc_ipe_inner_prod(primals[0], tangents[1])\n",
    "    print(\"primals = \", primals)\n",
    "    print(\"primals[0] = \", primals[0])\n",
    "    print(\"primals[1] = \", primals[1])\n",
    "    vector_1_dot, vector_2_dot = tangents\n",
    "    print(\"tangents[0] = \", tangents[0])\n",
    "    print(\"tangents[1] = \", tangents[1])\n",
    "    print(\"vector_1_dot = \", vector_1_dot)\n",
    "    print(\"vector_2_dot = \", vector_2_dot)\n",
    "    primal_out, _, _, _, _ = qbc_ipe_algorithm(primals[0], primals[1])\n",
    "    print(\"primal_out =\", primal_out)\n",
    "    tangent_out_1, _, _, _, _ = qbc_ipe_algorithm(primals[1], tangents[0]) \n",
    "    tangent_out_2, _, _, _, _ = qbc_ipe_algorithm(primals[0], tangents[1])\n",
    "    \n",
    "    \n",
    "    tangent_out = tangent_out_1\n",
    "    print(\"tangent_out =\", tangent_out)\n",
    "\n",
    "    return primal_out, tangent_out"
   ]
  },
  {
   "cell_type": "code",
   "execution_count": 4,
   "metadata": {},
   "outputs": [],
   "source": [
    "def sigmoid(x):\n",
    "    return (jnp.tanh(x / 2.0) + 1.0) / 2.0\n",
    "\n",
    "def predict(W, b, inputs):\n",
    "    res = []\n",
    "    for x in inputs:\n",
    "        print(\"x = \", x)\n",
    "        z = qbc_ipe_inner_prod(W, x) + b\n",
    "        f_z = sigmoid(z)\n",
    "        res.append(z)\n",
    "    return jnp.array(res)\n",
    "\n",
    "def loss(W, b):\n",
    "    preds = predict(W, b, inputs)\n",
    "    label_probs = preds * targets + (1 - preds) * (1 - targets)\n",
    "    return -jnp.sum(jnp.log(label_probs))"
   ]
  },
  {
   "cell_type": "code",
   "execution_count": 5,
   "metadata": {},
   "outputs": [
    {
     "name": "stdout",
     "output_type": "stream",
     "text": [
      "x =  [ 0.52  1.12  0.77 -1.07]\n",
      "rho =  4.318032200309959 rho_exact =  0.24321485541210025\n"
     ]
    },
    {
     "ename": "TypeError",
     "evalue": "iteration over a 0-d array",
     "output_type": "error",
     "traceback": [
      "\u001b[0;31m---------------------------------------------------------------------------\u001b[0m",
      "\u001b[0;31mTypeError\u001b[0m                                 Traceback (most recent call last)",
      "Cell \u001b[0;32mIn[5], line 1\u001b[0m\n\u001b[0;32m----> 1\u001b[0m b_grad \u001b[39m=\u001b[39m jax\u001b[39m.\u001b[39;49mjacfwd(loss, argnums\u001b[39m=\u001b[39;49m\u001b[39m1\u001b[39;49m)(W, b)\n\u001b[1;32m      2\u001b[0m \u001b[39mprint\u001b[39m(b_grad)\n",
      "File \u001b[0;32m~/Programs/master_thesis/qbc_applications/.env/lib/python3.9/site-packages/jax/_src/api.py:1363\u001b[0m, in \u001b[0;36mjacfwd.<locals>.jacfun\u001b[0;34m(*args, **kwargs)\u001b[0m\n\u001b[1;32m   1361\u001b[0m \u001b[39mif\u001b[39;00m \u001b[39mnot\u001b[39;00m has_aux:\n\u001b[1;32m   1362\u001b[0m   pushfwd \u001b[39m=\u001b[39m partial(_jvp, f_partial, dyn_args)\n\u001b[0;32m-> 1363\u001b[0m   y, jac \u001b[39m=\u001b[39m vmap(pushfwd, out_axes\u001b[39m=\u001b[39;49m(\u001b[39mNone\u001b[39;49;00m, \u001b[39m-\u001b[39;49m\u001b[39m1\u001b[39;49m))(_std_basis(dyn_args))\n\u001b[1;32m   1364\u001b[0m \u001b[39melse\u001b[39;00m:\n\u001b[1;32m   1365\u001b[0m   pushfwd \u001b[39m=\u001b[39m partial(_jvp, f_partial, dyn_args, has_aux\u001b[39m=\u001b[39m\u001b[39mTrue\u001b[39;00m)\n",
      "    \u001b[0;31m[... skipping hidden 5 frame]\u001b[0m\n",
      "Cell \u001b[0;32mIn[4], line 14\u001b[0m, in \u001b[0;36mloss\u001b[0;34m(W, b)\u001b[0m\n\u001b[1;32m     13\u001b[0m \u001b[39mdef\u001b[39;00m \u001b[39mloss\u001b[39m(W, b):\n\u001b[0;32m---> 14\u001b[0m     preds \u001b[39m=\u001b[39m predict(W, b, inputs)\n\u001b[1;32m     15\u001b[0m     label_probs \u001b[39m=\u001b[39m preds \u001b[39m*\u001b[39m targets \u001b[39m+\u001b[39m (\u001b[39m1\u001b[39m \u001b[39m-\u001b[39m preds) \u001b[39m*\u001b[39m (\u001b[39m1\u001b[39m \u001b[39m-\u001b[39m targets)\n\u001b[1;32m     16\u001b[0m     \u001b[39mreturn\u001b[39;00m \u001b[39m-\u001b[39mjnp\u001b[39m.\u001b[39msum(jnp\u001b[39m.\u001b[39mlog(label_probs))\n",
      "Cell \u001b[0;32mIn[4], line 8\u001b[0m, in \u001b[0;36mpredict\u001b[0;34m(W, b, inputs)\u001b[0m\n\u001b[1;32m      6\u001b[0m \u001b[39mfor\u001b[39;00m x \u001b[39min\u001b[39;00m inputs:\n\u001b[1;32m      7\u001b[0m     \u001b[39mprint\u001b[39m(\u001b[39m\"\u001b[39m\u001b[39mx = \u001b[39m\u001b[39m\"\u001b[39m, x)\n\u001b[0;32m----> 8\u001b[0m     z \u001b[39m=\u001b[39m qbc_ipe_inner_prod(W, x) \u001b[39m+\u001b[39m b\n\u001b[1;32m      9\u001b[0m     f_z \u001b[39m=\u001b[39m sigmoid(z)\n\u001b[1;32m     10\u001b[0m     res\u001b[39m.\u001b[39mappend(z)\n",
      "    \u001b[0;31m[... skipping hidden 5 frame]\u001b[0m\n",
      "Cell \u001b[0;32mIn[3], line 18\u001b[0m, in \u001b[0;36mqbc_ipe_inner_prod\u001b[0;34m(x, y)\u001b[0m\n\u001b[1;32m     16\u001b[0m \u001b[39m@custom_jvp\u001b[39m\n\u001b[1;32m     17\u001b[0m \u001b[39mdef\u001b[39;00m \u001b[39mqbc_ipe_inner_prod\u001b[39m(x, y):\n\u001b[0;32m---> 18\u001b[0m     result, _, _, _, _ \u001b[39m=\u001b[39m qbc_ipe_algorithm(x, y)\n\u001b[1;32m     19\u001b[0m     \u001b[39m# theta = 2 * jnp.pi * j / 2**10\u001b[39;00m\n\u001b[1;32m     20\u001b[0m     \u001b[39m# f = jnp.sin(theta / 2) ** 2\u001b[39;00m\n\u001b[1;32m     21\u001b[0m \n\u001b[0;32m   (...)\u001b[0m\n\u001b[1;32m     24\u001b[0m     \u001b[39m# y_norm = jnp.linalg.norm(y)\u001b[39;00m\n\u001b[1;32m     25\u001b[0m     \u001b[39m# result = -(1.0 - 2.0 * result)\u001b[39;00m\n\u001b[1;32m     26\u001b[0m     \u001b[39mprint\u001b[39m(\u001b[39m\"\u001b[39m\u001b[39mx = \u001b[39m\u001b[39m\"\u001b[39m, x)\n",
      "File \u001b[0;32m~/Programs/master_thesis/qbc_applications/.env/lib/python3.9/site-packages/jax/_src/array.py:299\u001b[0m, in \u001b[0;36mArrayImpl.__iter__\u001b[0;34m(self)\u001b[0m\n\u001b[1;32m    297\u001b[0m \u001b[39mdef\u001b[39;00m \u001b[39m__iter__\u001b[39m(\u001b[39mself\u001b[39m):\n\u001b[1;32m    298\u001b[0m   \u001b[39mif\u001b[39;00m \u001b[39mself\u001b[39m\u001b[39m.\u001b[39mndim \u001b[39m==\u001b[39m \u001b[39m0\u001b[39m:\n\u001b[0;32m--> 299\u001b[0m     \u001b[39mraise\u001b[39;00m \u001b[39mTypeError\u001b[39;00m(\u001b[39m\"\u001b[39m\u001b[39miteration over a 0-d array\u001b[39m\u001b[39m\"\u001b[39m)  \u001b[39m# same as numpy error\u001b[39;00m\n\u001b[1;32m    300\u001b[0m   \u001b[39melse\u001b[39;00m:\n\u001b[1;32m    301\u001b[0m     \u001b[39massert\u001b[39;00m \u001b[39mself\u001b[39m\u001b[39m.\u001b[39mis_fully_replicated \u001b[39mor\u001b[39;00m \u001b[39mself\u001b[39m\u001b[39m.\u001b[39mis_fully_addressable\n",
      "\u001b[0;31mTypeError\u001b[0m: iteration over a 0-d array"
     ]
    }
   ],
   "source": [
    "b_grad = jax.jacfwd(loss, argnums=1)(W, b)\n",
    "print(b_grad)"
   ]
  },
  {
   "cell_type": "code",
   "execution_count": null,
   "metadata": {},
   "outputs": [],
   "source": [
    "W_grad = jax.jacfwd(loss, argnums=0)(W, b)\n",
    "print(W_grad)"
   ]
  },
  {
   "cell_type": "code",
   "execution_count": null,
   "metadata": {},
   "outputs": [],
   "source": [
    "make_jaxpr(jax.jacrev(loss, argnums=0))"
   ]
  },
  {
   "cell_type": "markdown",
   "metadata": {},
   "source": [
    "[-0.16965583 -0.8774644  -1.4901346 ] -0.29227245"
   ]
  },
  {
   "cell_type": "markdown",
   "metadata": {},
   "source": [
    "[ 0.10766962  0.6651212  -0.00334581] -0.29227245"
   ]
  },
  {
   "cell_type": "code",
   "execution_count": null,
   "metadata": {},
   "outputs": [],
   "source": [
    "jax.jvp(loss, (W, b), (W_grad, b_grad))"
   ]
  },
  {
   "cell_type": "markdown",
   "metadata": {},
   "source": [
    "(Array(3.0519388, dtype=float32), Array(3.1046512, dtype=float32))"
   ]
  },
  {
   "cell_type": "markdown",
   "metadata": {},
   "source": [
    "(Array(3.0519388, dtype=float32), Array(0.53941333, dtype=float32))"
   ]
  },
  {
   "cell_type": "code",
   "execution_count": null,
   "metadata": {},
   "outputs": [],
   "source": [
    "print(inputs)"
   ]
  },
  {
   "cell_type": "code",
   "execution_count": null,
   "metadata": {},
   "outputs": [],
   "source": [
    "result, _, _, j, probs = qbc_ipe_algorithm(jnp.array([0.5, 1.0]), jnp.array([-1.0, 1.0]))"
   ]
  },
  {
   "cell_type": "code",
   "execution_count": null,
   "metadata": {},
   "outputs": [],
   "source": [
    "print(result)\n",
    "print(j)"
   ]
  },
  {
   "cell_type": "code",
   "execution_count": null,
   "metadata": {},
   "outputs": [],
   "source": [
    "import math\n",
    "theta = 2 * jnp.pi * j / float(2**10)\n",
    "print(type(theta))\n",
    "f = math.sin(theta / 2.0)\n",
    "\n",
    "rho = -(1.0 - 2.0 * f) * jnp.linalg.norm(jnp.array([0.5, 1.0])) * jnp.linalg.norm(jnp.array([-1.0, 1.0]))\n",
    "print(f)\n",
    "print(rho)"
   ]
  },
  {
   "cell_type": "code",
   "execution_count": 6,
   "metadata": {},
   "outputs": [],
   "source": [
    "import pennylane as qml\n"
   ]
  },
  {
   "cell_type": "code",
   "execution_count": 7,
   "metadata": {},
   "outputs": [],
   "source": [
    "@jax.jit\n",
    "def func():\n",
    "    dev = qml.device(\"default.qubit.jax\", wires=4)\n",
    "\n",
    "    # @jax.jit\n",
    "    # def had():\n",
    "\n",
    "    n_wires = range(0, 2)\n",
    "    a_wires = range(2, 3)\n",
    "    t_wires = range(3, 4)\n",
    "    x = jnp.array([-1.0, 2.0])\n",
    "    x /= jnp.linalg.norm(x)\n",
    "    tmp = jnp.zeros((2**2, 2**2 - 1))\n",
    "    A_x = jnp.concatenate(\n",
    "        (jnp.pad(x, pad_width=(0, 2**2 - len(x))).reshape(-1, 1), tmp),\n",
    "        axis=1,\n",
    "    )\n",
    "\n",
    "    Q_x, _ = jnp.linalg.qr(A_x, mode=\"full\")\n",
    "    for i in range(2**2):\n",
    "        Q_x.at[:, i].set(Q_x[:, i] / jnp.linalg.norm(Q_x[:, i]))\n",
    "\n",
    "    u_x = Q_x.T\n",
    "    u_x *= jnp.sign(u_x[0, 0]) * jnp.sign(x[0])\n",
    "\n",
    "\n",
    "    y = jnp.array([-1.0, 2.0])\n",
    "    y /= jnp.linalg.norm(y)\n",
    "    A_y = jnp.concatenate(\n",
    "        (jnp.pad(y, pad_width=(0, 2**2 - len(x))).reshape(-1, 1), tmp),\n",
    "        axis=1,\n",
    "    )\n",
    "    Q_y, _ = jnp.linalg.qr(A_y, mode=\"full\")\n",
    "    for i in range(2**2):\n",
    "        Q_y.at[:, i].set(Q_y[:, i] / jnp.linalg.norm(Q_y[:, i]))\n",
    "\n",
    "    u_y = Q_y.T\n",
    "    u_y *= jnp.sign(u_y[0, 0]) * jnp.sign(y[0])\n",
    "\n",
    "    # @jax.jit\n",
    "    def U_x():\n",
    "        qml.QubitUnitary(u_x, wires=n_wires)\n",
    "\n",
    "    # @jax.jit\n",
    "    def U_y():\n",
    "        qml.QubitUnitary(u_x, wires=n_wires)\n",
    "\n",
    "    # @jax.jit\n",
    "    def A_operator():\n",
    "        qml.Hadamard(wires=a_wires)\n",
    "        qml.ctrl(U_x, control=a_wires, control_values=0)()\n",
    "        qml.ctrl(U_y, control=a_wires, control_values=1)()\n",
    "        qml.Hadamard(wires=a_wires)\n",
    "\n",
    "    # @jax.jit\n",
    "    @qml.qnode(dev, interface=\"jax\")\n",
    "    def circuit():\n",
    "        qml.ctrl(A_operator, control=t_wires, control_values=0)()\n",
    "        A_operator()\n",
    "        A_operator()\n",
    "        return qml.state()\n",
    "\n",
    "    return circuit()"
   ]
  },
  {
   "cell_type": "code",
   "execution_count": 8,
   "metadata": {},
   "outputs": [
    {
     "name": "stdout",
     "output_type": "stream",
     "text": [
      "[-0.4472136 +0.j  0.        +0.j  0.        +0.j  0.        +0.j\n",
      "  0.89442719+0.j  0.        +0.j  0.        +0.j  0.        +0.j\n",
      "  0.        +0.j  0.        +0.j  0.        +0.j  0.        +0.j\n",
      "  0.        +0.j  0.        +0.j  0.        +0.j  0.        +0.j]\n",
      "[-0.4472136 +0.j  0.        +0.j  0.        +0.j  0.        +0.j\n",
      "  0.89442719+0.j  0.        +0.j  0.        +0.j  0.        +0.j\n",
      "  0.        +0.j  0.        +0.j  0.        +0.j  0.        +0.j\n",
      "  0.        +0.j  0.        +0.j  0.        +0.j  0.        +0.j]\n"
     ]
    }
   ],
   "source": [
    "print(func())\n",
    "print(func())"
   ]
  },
  {
   "cell_type": "code",
   "execution_count": null,
   "metadata": {},
   "outputs": [],
   "source": []
  }
 ],
 "metadata": {
  "kernelspec": {
   "display_name": ".env",
   "language": "python",
   "name": "python3"
  },
  "language_info": {
   "codemirror_mode": {
    "name": "ipython",
    "version": 3
   },
   "file_extension": ".py",
   "mimetype": "text/x-python",
   "name": "python",
   "nbconvert_exporter": "python",
   "pygments_lexer": "ipython3",
   "version": "3.9.13"
  },
  "orig_nbformat": 4
 },
 "nbformat": 4,
 "nbformat_minor": 2
}
