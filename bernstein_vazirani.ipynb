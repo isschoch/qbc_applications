{
 "cells": [
  {
   "cell_type": "code",
   "execution_count": 117,
   "metadata": {},
   "outputs": [],
   "source": [
    "import pennylane as qml\n",
    "from pennylane import numpy as np\n",
    "from itertools import chain\n",
    "import matplotlib.pyplot as plt\n",
    "from scipy import linalg as la\n",
    "import math"
   ]
  },
  {
   "cell_type": "code",
   "execution_count": 118,
   "metadata": {},
   "outputs": [],
   "source": [
    "n = 6\n",
    "tot_wires = range(0, n)\n",
    "\n",
    "dev = qml.device(\"default.qubit\", wires=tot_wires, shots=1)"
   ]
  },
  {
   "cell_type": "code",
   "execution_count": 119,
   "metadata": {},
   "outputs": [],
   "source": [
    "def U_f(x, y):\n",
    "    for t in range(n):\n",
    "        for i in range(n):\n",
    "            if x[i % n] * y[(t - i + n) % n] == 1:\n",
    "                qml.PauliZ(wires=t)\n",
    "    return \n",
    "\n",
    "@qml.qnode(dev)\n",
    "def bernstein_vazirani(x, y):\n",
    "    for i in range(n):\n",
    "        qml.Hadamard(wires=i)\n",
    "    U_f(x, y)\n",
    "    for i in range(n):\n",
    "        qml.Hadamard(wires=i)\n",
    "    return qml.sample(wires=range(n))  "
   ]
  },
  {
   "cell_type": "code",
   "execution_count": 125,
   "metadata": {},
   "outputs": [
    {
     "name": "stdout",
     "output_type": "stream",
     "text": [
      "[1 1 1 1 0 0]\n",
      "[1. 1. 1. 1. 2. 2.]\n"
     ]
    }
   ],
   "source": [
    "x = [1, 0, 0, 0, 1, 0]\n",
    "y = [1, 1, 0, 0, 1, 1]\n",
    "result = bernstein_vazirani(x, y)\n",
    "print(result)\n",
    "print(np.real(np.fft.ifft(np.fft.fft(x) * np.fft.fft(y))))\n"
   ]
  },
  {
   "cell_type": "code",
   "execution_count": null,
   "metadata": {},
   "outputs": [],
   "source": []
  },
  {
   "cell_type": "code",
   "execution_count": null,
   "metadata": {},
   "outputs": [],
   "source": []
  }
 ],
 "metadata": {
  "kernelspec": {
   "display_name": ".env",
   "language": "python",
   "name": "python3"
  },
  "language_info": {
   "codemirror_mode": {
    "name": "ipython",
    "version": 3
   },
   "file_extension": ".py",
   "mimetype": "text/x-python",
   "name": "python",
   "nbconvert_exporter": "python",
   "pygments_lexer": "ipython3",
   "version": "3.9.13"
  },
  "orig_nbformat": 4
 },
 "nbformat": 4,
 "nbformat_minor": 2
}
