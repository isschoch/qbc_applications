{
 "cells": [
  {
   "cell_type": "code",
   "execution_count": 18,
   "metadata": {},
   "outputs": [],
   "source": [
    "import pennylane as qml\n",
    "from pennylane import numpy as np"
   ]
  },
  {
   "cell_type": "code",
   "execution_count": 19,
   "metadata": {},
   "outputs": [
    {
     "name": "stdout",
     "output_type": "stream",
     "text": [
      "data_wires =  range(0, 4)\n"
     ]
    }
   ],
   "source": [
    "N = 2\n",
    "data_wires = range(0, 2**N)\n",
    "tmp_data_wires = range(2**N, 2**N + 2**(N-1))\n",
    "print(\"data_wires = \", data_wires)\n",
    "index_wires = range(2**N + 2**(N-1), 2**N + 2**(N-1) + N)\n",
    "incident_wire = range(2**N + 2**(N-1) + N, 2**N + 2**(N-1) + N + 1)\n",
    "tot_wires = range(0, 2**N + 2**(N-1) + N + 1)\n",
    "\n",
    "dev = qml.device(\"default.qubit\", wires=tot_wires, shots=1)"
   ]
  },
  {
   "cell_type": "code",
   "execution_count": 47,
   "metadata": {},
   "outputs": [],
   "source": [
    "def traverse():\n",
    "    qml.PauliX(index_wires[0])\n",
    "    qml.CSWAP(wires=[index_wires[0], incident_wire[0], tmp_data_wires[0]])\n",
    "    qml.PauliX(index_wires[0])\n",
    "    qml.CSWAP(wires=[index_wires[0], incident_wire[0], tmp_data_wires[1]])\n",
    "\n",
    "    qml.PauliX(index_wires[1])\n",
    "    qml.CSWAP(wires=[index_wires[1], tmp_data_wires[0], data_wires[0]])\n",
    "    qml.PauliX(index_wires[1])\n",
    "    qml.CSWAP(wires=[index_wires[1], tmp_data_wires[0], data_wires[1]])\n",
    "\n",
    "    qml.PauliX(index_wires[1])\n",
    "    qml.CSWAP(wires=[index_wires[1], tmp_data_wires[1], data_wires[2]])\n",
    "    qml.PauliX(index_wires[1])\n",
    "    qml.CSWAP(wires=[index_wires[1], tmp_data_wires[1], data_wires[3]])\n",
    "    return\n",
    "\n",
    "\n",
    "@qml.qnode(dev)\n",
    "def QRAM(x, idx):    \n",
    "    qml.PauliX(wires=incident_wire[0])\n",
    "    qml.BasisEmbedding(idx, wires=index_wires)\n",
    "\n",
    "    qml.BasisEmbedding(x, wires=data_wires)\n",
    "\n",
    "    traverse()\n",
    "    qml.CNOT(wires=[incident_wire[0], incident_wire[0] + 1])\n",
    "    qml.adjoint(traverse)()\n",
    "\n",
    "    # qml.PauliX(index_wires[1])\n",
    "    # qml.CSWAP(wires=[index_wires[1], incident_wire[0], data_wires[0]])\n",
    "    # qml.PauliX(index_wires[1])\n",
    "    # qml.CSWAP(wires=[index_wires[1], incident_wire[0], data_wires[1]])\n",
    "\n",
    "\n",
    "    # qml.CSWAP(wires=[index_wires[0], data_wires[0], data_wires[1]])\n",
    "\n",
    "    # qml.PauliX(index_wires[0])\n",
    "    # qml.CSWAP(wires=[index_wires[0], data_wires[1], data_wires[2]])\n",
    "    # qml.PauliX(index_wires[0])\n",
    "\n",
    "    # qml.CSWAP(wires=[index_wires[0], data_wires[1], data_wires[3]])\n",
    "\n",
    "    return qml.probs(wires=data_wires)"
   ]
  },
  {
   "cell_type": "code",
   "execution_count": 49,
   "metadata": {},
   "outputs": [
    {
     "name": "stdout",
     "output_type": "stream",
     "text": [
      "0b11\n",
      "0b11\n",
      "0b11\n",
      "0b11\n"
     ]
    }
   ],
   "source": [
    "\n",
    "for i in range(4):\n",
    "    print(bin(np.argmax(QRAM([0, 0, 1, 1], i))))\n"
   ]
  },
  {
   "cell_type": "code",
   "execution_count": 42,
   "metadata": {},
   "outputs": [],
   "source": [
    "\n",
    "\n",
    "# for x in range(0, 2**(2**N)):\n",
    "#     print(\"x = \", x)\n",
    "#     print(\"QRAM(x) = \", QRAM(x, 0))\n",
    "#     print(\"QRAM(x) = \", bin(np.argmax(QRAM(x, 0))))\n",
    "#     print(\"QRAM(x) = \", np.argmax(QRAM(x, 0)))\n",
    "# print(bin(np.argmax(QRAM(x))))\n",
    "# print(QRAM(x))"
   ]
  },
  {
   "cell_type": "code",
   "execution_count": null,
   "metadata": {},
   "outputs": [],
   "source": []
  },
  {
   "cell_type": "code",
   "execution_count": null,
   "metadata": {},
   "outputs": [],
   "source": []
  }
 ],
 "metadata": {
  "kernelspec": {
   "display_name": ".env",
   "language": "python",
   "name": "python3"
  },
  "language_info": {
   "codemirror_mode": {
    "name": "ipython",
    "version": 3
   },
   "file_extension": ".py",
   "mimetype": "text/x-python",
   "name": "python",
   "nbconvert_exporter": "python",
   "pygments_lexer": "ipython3",
   "version": "3.9.13"
  },
  "orig_nbformat": 4
 },
 "nbformat": 4,
 "nbformat_minor": 2
}
